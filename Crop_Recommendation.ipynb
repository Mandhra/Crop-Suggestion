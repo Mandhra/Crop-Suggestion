{
  "cells": [
    {
      "cell_type": "code",
      "execution_count": 1,
      "metadata": {
        "colab": {
          "base_uri": "https://localhost:8080/",
          "height": 206
        },
        "id": "-WvpacJUHVJN",
        "outputId": "1d54c816-9fee-4707-a36d-8ad6db7b26bf"
      },
      "outputs": [
        {
          "data": {
            "text/html": [
              "<div>\n",
              "<style scoped>\n",
              "    .dataframe tbody tr th:only-of-type {\n",
              "        vertical-align: middle;\n",
              "    }\n",
              "\n",
              "    .dataframe tbody tr th {\n",
              "        vertical-align: top;\n",
              "    }\n",
              "\n",
              "    .dataframe thead th {\n",
              "        text-align: right;\n",
              "    }\n",
              "</style>\n",
              "<table border=\"1\" class=\"dataframe\">\n",
              "  <thead>\n",
              "    <tr style=\"text-align: right;\">\n",
              "      <th></th>\n",
              "      <th>N</th>\n",
              "      <th>P</th>\n",
              "      <th>K</th>\n",
              "      <th>Temperature</th>\n",
              "      <th>Humidity</th>\n",
              "      <th>ph</th>\n",
              "      <th>Rainfall</th>\n",
              "      <th>label</th>\n",
              "    </tr>\n",
              "  </thead>\n",
              "  <tbody>\n",
              "    <tr>\n",
              "      <th>0</th>\n",
              "      <td>90</td>\n",
              "      <td>42</td>\n",
              "      <td>43</td>\n",
              "      <td>20.879744</td>\n",
              "      <td>82.002744</td>\n",
              "      <td>6.502985</td>\n",
              "      <td>202.935536</td>\n",
              "      <td>rice</td>\n",
              "    </tr>\n",
              "    <tr>\n",
              "      <th>1</th>\n",
              "      <td>85</td>\n",
              "      <td>58</td>\n",
              "      <td>41</td>\n",
              "      <td>21.770462</td>\n",
              "      <td>80.319644</td>\n",
              "      <td>7.038096</td>\n",
              "      <td>226.655537</td>\n",
              "      <td>rice</td>\n",
              "    </tr>\n",
              "    <tr>\n",
              "      <th>2</th>\n",
              "      <td>60</td>\n",
              "      <td>55</td>\n",
              "      <td>44</td>\n",
              "      <td>23.004459</td>\n",
              "      <td>82.320763</td>\n",
              "      <td>7.840207</td>\n",
              "      <td>263.964248</td>\n",
              "      <td>rice</td>\n",
              "    </tr>\n",
              "    <tr>\n",
              "      <th>3</th>\n",
              "      <td>74</td>\n",
              "      <td>35</td>\n",
              "      <td>40</td>\n",
              "      <td>26.491096</td>\n",
              "      <td>80.158363</td>\n",
              "      <td>6.980401</td>\n",
              "      <td>242.864034</td>\n",
              "      <td>rice</td>\n",
              "    </tr>\n",
              "    <tr>\n",
              "      <th>4</th>\n",
              "      <td>78</td>\n",
              "      <td>42</td>\n",
              "      <td>42</td>\n",
              "      <td>20.130175</td>\n",
              "      <td>81.604873</td>\n",
              "      <td>7.628473</td>\n",
              "      <td>262.717340</td>\n",
              "      <td>rice</td>\n",
              "    </tr>\n",
              "  </tbody>\n",
              "</table>\n",
              "</div>"
            ],
            "text/plain": [
              "    N   P   K  Temperature   Humidity        ph    Rainfall label\n",
              "0  90  42  43    20.879744  82.002744  6.502985  202.935536  rice\n",
              "1  85  58  41    21.770462  80.319644  7.038096  226.655537  rice\n",
              "2  60  55  44    23.004459  82.320763  7.840207  263.964248  rice\n",
              "3  74  35  40    26.491096  80.158363  6.980401  242.864034  rice\n",
              "4  78  42  42    20.130175  81.604873  7.628473  262.717340  rice"
            ]
          },
          "execution_count": 1,
          "metadata": {},
          "output_type": "execute_result"
        }
      ],
      "source": [
        "import numpy as np\n",
        "import pandas as pd\n",
        "import matplotlib as plt\n",
        "import seaborn as sns\n",
        "df=pd.read_csv(\"Crop_Recommendation.csv\")\n",
        "df.head()"
      ]
    },
    {
      "cell_type": "code",
      "execution_count": 2,
      "metadata": {
        "id": "4jkz5qM3rJ6y"
      },
      "outputs": [],
      "source": [
        "from sklearn.preprocessing import LabelEncoder\n",
        "encoder = LabelEncoder()\n",
        "df['label'] = encoder.fit_transform(df['label'])"
      ]
    },
    {
      "cell_type": "code",
      "execution_count": 3,
      "metadata": {
        "colab": {
          "base_uri": "https://localhost:8080/"
        },
        "id": "WwZIRLhpdpVE",
        "outputId": "8e6409a5-e1c8-4d14-b5eb-b690ed1fe3a0"
      },
      "outputs": [
        {
          "data": {
            "text/plain": [
              "(2200,)"
            ]
          },
          "execution_count": 3,
          "metadata": {},
          "output_type": "execute_result"
        }
      ],
      "source": [
        "x=df.drop('label', axis=1)\n",
        "y=df['label']\n",
        "y.shape"
      ]
    },
    {
      "cell_type": "code",
      "execution_count": 4,
      "metadata": {
        "colab": {
          "base_uri": "https://localhost:8080/"
        },
        "id": "JwDV6p8oduuR",
        "outputId": "2e74014f-e842-4085-b35b-4e9094e6e2a9"
      },
      "outputs": [
        {
          "name": "stdout",
          "output_type": "stream",
          "text": [
            "X Train -  (1540, 7) \n",
            "X Test -  (660, 7) \n",
            "Y Train -  (1540,) \n",
            "Y Test -  (660,)\n"
          ]
        }
      ],
      "source": [
        "from sklearn.model_selection import train_test_split\n",
        "x_train,x_test,y_train,y_test=train_test_split(x,y,test_size=0.3,random_state=42,shuffle=True)\n",
        "print(\"X Train - \",x_train.shape,\"\\nX Test - \",x_test.shape,\"\\nY Train - \",y_train.shape,'\\nY Test - ',y_test.shape)"
      ]
    },
    {
      "cell_type": "code",
      "execution_count": 5,
      "metadata": {
        "id": "cw-m532U18u0"
      },
      "outputs": [],
      "source": [
        "# Logistic Regression\n",
        "from sklearn.linear_model import LogisticRegression\n",
        "# Support Vector Machine (SVM)\n",
        "from sklearn.svm import SVC  # Support Vector Classifier\n",
        "# Decision Tree Classifier\n",
        "from sklearn.tree import DecisionTreeClassifier\n",
        "# Random Forest Classifier\n",
        "from sklearn.ensemble import RandomForestClassifier\n",
        "# Gradient Boosting Classifier (e.g., XGBoost, LightGBM, CatBoost)\n",
        "from sklearn.ensemble import GradientBoostingClassifier  # General gradient boosting\n",
        "\n",
        "\n",
        "from sklearn.metrics import accuracy_score, precision_score, recall_score, f1_score"
      ]
    },
    {
      "cell_type": "code",
      "execution_count": 6,
      "metadata": {
        "id": "uBCO3fqI2Aa-"
      },
      "outputs": [],
      "source": [
        "models={'LogisticRegression':LogisticRegression(),'SVC':SVC(),'DecisionTreeClassifier':DecisionTreeClassifier(),'RandomForestClassifier':RandomForestClassifier(),'GradientBoostingClassifier':GradientBoostingClassifier()}"
      ]
    },
    {
      "cell_type": "code",
      "execution_count": 7,
      "metadata": {
        "colab": {
          "base_uri": "https://localhost:8080/"
        },
        "id": "gkrZKL7g299R",
        "outputId": "fd256813-fd24-4406-cf8e-89a5bafacd56"
      },
      "outputs": [
        {
          "name": "stderr",
          "output_type": "stream",
          "text": [
            "c:\\Users\\ashridha\\AppData\\Local\\Programs\\Python\\Python310\\lib\\site-packages\\sklearn\\linear_model\\_logistic.py:465: ConvergenceWarning: lbfgs failed to converge (status=1):\n",
            "STOP: TOTAL NO. OF ITERATIONS REACHED LIMIT.\n",
            "\n",
            "Increase the number of iterations (max_iter) or scale the data as shown in:\n",
            "    https://scikit-learn.org/stable/modules/preprocessing.html\n",
            "Please also refer to the documentation for alternative solver options:\n",
            "    https://scikit-learn.org/stable/modules/linear_model.html#logistic-regression\n",
            "  n_iter_i = _check_optimize_result(\n"
          ]
        },
        {
          "name": "stdout",
          "output_type": "stream",
          "text": [
            "LogisticRegression Accuracy -  0.9454545454545454 \n",
            "Precision -  0.9454545454545454 \n",
            "Recall -  0.9454545454545454 \n",
            "F1 -  0.9454545454545454\n",
            "\n",
            "SVC Accuracy -  0.9636363636363636 \n",
            "Precision -  0.9636363636363636 \n",
            "Recall -  0.9636363636363636 \n",
            "F1 -  0.9636363636363636\n",
            "\n",
            "DecisionTreeClassifier Accuracy -  0.9818181818181818 \n",
            "Precision -  0.9818181818181818 \n",
            "Recall -  0.9818181818181818 \n",
            "F1 -  0.9818181818181818\n",
            "\n",
            "RandomForestClassifier Accuracy -  0.9924242424242424 \n",
            "Precision -  0.9924242424242424 \n",
            "Recall -  0.9924242424242424 \n",
            "F1 -  0.9924242424242424\n",
            "\n",
            "GradientBoostingClassifier Accuracy -  0.9833333333333333 \n",
            "Precision -  0.9833333333333333 \n",
            "Recall -  0.9833333333333333 \n",
            "F1 -  0.9833333333333333\n",
            "\n"
          ]
        }
      ],
      "source": [
        "def evaluate_regression_model(model, X_train, y_train, X_test, y_test):\n",
        " model.fit(x_train, y_train)\n",
        " y_pred = model.predict(x_test)\n",
        " accuracy = accuracy_score(y_test, y_pred)\n",
        " precision = precision_score(y_test, y_pred,average='micro')\n",
        " recall = recall_score(y_test, y_pred,average='micro')\n",
        " f1 = f1_score(y_test, y_pred,average='micro')\n",
        " return accuracy, precision, recall, f1\n",
        "# Evaluate each regression model\n",
        "regression_results = {}\n",
        "for name, model in models.items():\n",
        " accuracy, precision, recall, f1 = evaluate_regression_model(model, x_train, y_train, x_test, y_test)\n",
        " print(name, 'Accuracy - ',accuracy, '\\nPrecision - ', precision, '\\nRecall - ', recall ,'\\nF1 - ',f1)\n",
        " print()"
      ]
    },
    {
      "cell_type": "code",
      "execution_count": 8,
      "metadata": {
        "colab": {
          "base_uri": "https://localhost:8080/"
        },
        "id": "yq2t-nrubG4F",
        "outputId": "ec9f3cbf-5200-40a4-e351-de13bbf66473"
      },
      "outputs": [
        {
          "data": {
            "text/plain": [
              "array([15, 21, 17, 17,  0, 12,  0, 13, 14, 10,  2,  4, 19,  8,  4, 19,  0,\n",
              "       11, 17, 15,  5, 17, 16, 17,  3,  8, 14, 16, 18, 20, 19, 13,  8, 10,\n",
              "        8,  2,  8,  3,  3,  9, 17, 12,  2, 11, 14, 11, 18,  4, 15, 11,  2,\n",
              "        5,  7, 14,  5,  9,  6,  0,  1,  2, 21,  4, 10, 16, 17, 18, 16, 20,\n",
              "       15, 18, 15,  4,  8,  1,  2, 17,  1,  6, 21, 16,  5,  3, 20, 13, 16,\n",
              "       12,  5, 13,  2, 19, 11, 13,  6, 17, 18, 13,  9,  5,  2, 10,  4, 20,\n",
              "       16, 15, 21,  9, 21,  1, 18, 13,  1,  8,  6, 19, 18,  3, 11,  4, 19,\n",
              "       20, 18,  7,  2,  4,  3,  2,  4, 11,  1, 13,  1,  9, 19,  3,  4, 16,\n",
              "       18,  1,  1,  0,  9, 15, 14, 13,  4, 11,  0,  4,  9, 13, 14, 10, 21,\n",
              "       14, 18, 18, 18,  9, 11,  8,  3,  0, 16,  6, 20,  4,  7, 10, 21,  7,\n",
              "        7,  2, 19,  3,  4, 11, 10,  7, 21,  8,  5,  5,  9,  8, 13,  9,  1,\n",
              "        9,  4, 17, 17, 14, 12, 19, 21,  9, 11,  0,  2,  3,  7,  7,  1,  6,\n",
              "       20, 19, 14,  1,  8, 14, 11,  3,  3,  3,  0, 20,  9, 17,  5,  2,  9,\n",
              "       12, 12,  4, 17,  0,  3, 19,  3, 15,  0, 15, 15, 12, 12,  6,  4, 19,\n",
              "       20, 15,  5, 17, 13, 11, 12, 15, 18, 14,  5,  7,  4,  6, 18, 20,  0,\n",
              "       19,  5,  3,  6,  8, 12,  1, 17,  0,  3, 20, 18, 13, 14,  8, 19,  7,\n",
              "       13,  8, 11,  4, 11,  3,  1,  8,  4,  8, 12, 15,  0,  1, 18,  2, 16,\n",
              "        3, 21,  1,  0,  3,  5, 18, 16,  0,  4, 17, 21, 13, 17,  3, 19,  3,\n",
              "       17, 10,  0, 19,  3, 12,  3, 19, 21,  9, 14, 15, 21,  9, 15, 12,  8,\n",
              "        2,  3,  1,  2, 18, 17, 18, 14,  4,  6,  7,  0, 10,  1,  8,  0, 19,\n",
              "        0, 14, 15,  5,  5, 18,  8,  9,  1, 11,  8, 11, 18, 12,  9, 19, 21,\n",
              "        2, 11, 20, 13,  9, 12,  6, 17, 13,  6, 14, 16,  8,  2, 14,  5,  1,\n",
              "       18, 17,  0, 19, 11, 12,  4,  0, 10,  8, 13, 10,  4,  2,  8, 14,  6,\n",
              "       21,  0,  7,  4,  7, 21, 20, 12, 12,  5, 19,  1,  7,  8, 16,  6, 12,\n",
              "       17, 15, 13,  8,  3, 13, 19, 21, 13,  6, 17, 21, 13, 20,  4, 13, 13,\n",
              "       11, 20, 11,  4, 16, 19,  9, 21, 14,  2, 20, 20,  6,  6, 18, 16,  2,\n",
              "       10,  1, 12, 11,  0, 19, 12,  6, 14, 18,  3,  0,  5, 18,  8,  8,  8,\n",
              "       17, 10,  7,  8, 16, 14, 12,  9,  7, 14, 16, 18,  1,  8, 18, 19,  5,\n",
              "       15,  2, 17, 17, 19,  9,  3, 14, 14, 12, 18, 15, 12, 13, 18, 15, 20,\n",
              "       19, 15, 18,  0, 14,  8,  9,  0, 20, 12, 17, 13,  6, 19, 18, 17, 10,\n",
              "       11,  3, 15,  6,  9,  3, 14,  5,  5, 16, 21, 16,  7,  5, 18, 12,  0,\n",
              "       12, 19,  5, 18,  5,  7,  6, 19, 17,  0,  2, 18, 21, 17,  2,  7, 10,\n",
              "        8,  5, 17,  3,  5,  8, 13, 19, 17, 18,  0,  9, 16, 13, 20, 14, 21,\n",
              "       19,  4,  4,  8, 19,  9, 13,  8,  9, 20, 10, 17, 19, 16,  3,  8, 19,\n",
              "        6, 13, 14,  7, 14, 10,  6,  9, 12, 15,  9, 16, 18, 11,  8,  5,  6,\n",
              "       11, 10,  9, 19, 17, 20, 18, 15, 14,  9, 11,  8,  9,  3,  6, 13,  0,\n",
              "       17, 19,  6, 12,  7, 12,  5,  5,  6, 13,  4,  4,  4,  0, 16, 12, 12,\n",
              "       16,  1,  0,  7,  2,  9,  7,  6, 10,  1, 13,  0,  8, 10,  5, 16, 10,\n",
              "        2,  1,  9, 19,  8, 17, 10,  4,  9,  9, 13, 17,  3, 21])"
            ]
          },
          "execution_count": 8,
          "metadata": {},
          "output_type": "execute_result"
        }
      ],
      "source": [
        "rfc =RandomForestClassifier(n_estimators=100, random_state=42)\n",
        "rfc.fit(x_train, y_train)\n",
        "rfc.predict(x_test)"
      ]
    },
    {
      "cell_type": "code",
      "execution_count": 9,
      "metadata": {
        "colab": {
          "base_uri": "https://localhost:8080/",
          "height": 206
        },
        "id": "r8VI4KG77LZn",
        "outputId": "a4dfcf03-5197-4bd1-db9a-31812e9cc47a"
      },
      "outputs": [
        {
          "data": {
            "text/html": [
              "<div>\n",
              "<style scoped>\n",
              "    .dataframe tbody tr th:only-of-type {\n",
              "        vertical-align: middle;\n",
              "    }\n",
              "\n",
              "    .dataframe tbody tr th {\n",
              "        vertical-align: top;\n",
              "    }\n",
              "\n",
              "    .dataframe thead th {\n",
              "        text-align: right;\n",
              "    }\n",
              "</style>\n",
              "<table border=\"1\" class=\"dataframe\">\n",
              "  <thead>\n",
              "    <tr style=\"text-align: right;\">\n",
              "      <th></th>\n",
              "      <th>N</th>\n",
              "      <th>P</th>\n",
              "      <th>K</th>\n",
              "      <th>Temperature</th>\n",
              "      <th>Humidity</th>\n",
              "      <th>ph</th>\n",
              "      <th>Rainfall</th>\n",
              "      <th>label</th>\n",
              "    </tr>\n",
              "  </thead>\n",
              "  <tbody>\n",
              "    <tr>\n",
              "      <th>2195</th>\n",
              "      <td>107</td>\n",
              "      <td>34</td>\n",
              "      <td>32</td>\n",
              "      <td>26.774637</td>\n",
              "      <td>66.413269</td>\n",
              "      <td>6.780064</td>\n",
              "      <td>177.774507</td>\n",
              "      <td>5</td>\n",
              "    </tr>\n",
              "    <tr>\n",
              "      <th>2196</th>\n",
              "      <td>99</td>\n",
              "      <td>15</td>\n",
              "      <td>27</td>\n",
              "      <td>27.417112</td>\n",
              "      <td>56.636362</td>\n",
              "      <td>6.086922</td>\n",
              "      <td>127.924610</td>\n",
              "      <td>5</td>\n",
              "    </tr>\n",
              "    <tr>\n",
              "      <th>2197</th>\n",
              "      <td>118</td>\n",
              "      <td>33</td>\n",
              "      <td>30</td>\n",
              "      <td>24.131797</td>\n",
              "      <td>67.225123</td>\n",
              "      <td>6.362608</td>\n",
              "      <td>173.322839</td>\n",
              "      <td>5</td>\n",
              "    </tr>\n",
              "    <tr>\n",
              "      <th>2198</th>\n",
              "      <td>117</td>\n",
              "      <td>32</td>\n",
              "      <td>34</td>\n",
              "      <td>26.272418</td>\n",
              "      <td>52.127394</td>\n",
              "      <td>6.758793</td>\n",
              "      <td>127.175293</td>\n",
              "      <td>5</td>\n",
              "    </tr>\n",
              "    <tr>\n",
              "      <th>2199</th>\n",
              "      <td>104</td>\n",
              "      <td>18</td>\n",
              "      <td>30</td>\n",
              "      <td>23.603016</td>\n",
              "      <td>60.396475</td>\n",
              "      <td>6.779833</td>\n",
              "      <td>140.937041</td>\n",
              "      <td>5</td>\n",
              "    </tr>\n",
              "  </tbody>\n",
              "</table>\n",
              "</div>"
            ],
            "text/plain": [
              "        N   P   K  Temperature   Humidity        ph    Rainfall  label\n",
              "2195  107  34  32    26.774637  66.413269  6.780064  177.774507      5\n",
              "2196   99  15  27    27.417112  56.636362  6.086922  127.924610      5\n",
              "2197  118  33  30    24.131797  67.225123  6.362608  173.322839      5\n",
              "2198  117  32  34    26.272418  52.127394  6.758793  127.175293      5\n",
              "2199  104  18  30    23.603016  60.396475  6.779833  140.937041      5"
            ]
          },
          "execution_count": 9,
          "metadata": {},
          "output_type": "execute_result"
        }
      ],
      "source": [
        "df.tail()"
      ]
    },
    {
      "cell_type": "code",
      "execution_count": 10,
      "metadata": {
        "id": "nl6JYTXabY7h"
      },
      "outputs": [],
      "source": [
        "def prediction(N,P,K,Temperature,Humidity,ph,Rainfall):\n",
        "  features=np.array([[N,P,K,Temperature,Humidity,ph,Rainfall]],dtype=object)\n",
        "  #features=scaler.fit_transform(features)\n",
        "  pred=rfc.predict(features).reshape(-1,1)\n",
        "  pred = encoder.inverse_transform(pred)\n",
        "  return pred[0]"
      ]
    },
    {
      "cell_type": "code",
      "execution_count": 11,
      "metadata": {
        "colab": {
          "base_uri": "https://localhost:8080/",
          "height": 125
        },
        "id": "Rp2Gtawc734d",
        "outputId": "c76ce09e-c113-41ba-82e5-812aaf454f04"
      },
      "outputs": [
        {
          "name": "stderr",
          "output_type": "stream",
          "text": [
            "c:\\Users\\ashridha\\AppData\\Local\\Programs\\Python\\Python310\\lib\\site-packages\\sklearn\\utils\\validation.py:2739: UserWarning: X does not have valid feature names, but RandomForestClassifier was fitted with feature names\n",
            "  warnings.warn(\n",
            "c:\\Users\\ashridha\\AppData\\Local\\Programs\\Python\\Python310\\lib\\site-packages\\sklearn\\preprocessing\\_label.py:151: DataConversionWarning: A column-vector y was passed when a 1d array was expected. Please change the shape of y to (n_samples, ), for example using ravel().\n",
            "  y = column_or_1d(y, warn=True)\n"
          ]
        },
        {
          "data": {
            "text/plain": [
              "'coffee'"
            ]
          },
          "execution_count": 11,
          "metadata": {},
          "output_type": "execute_result"
        }
      ],
      "source": [
        "prediction(107,34,32,26.774637,66.413269,6.780064,177.774507)"
      ]
    },
    {
      "cell_type": "code",
      "execution_count": 12,
      "metadata": {
        "id": "oQQfzMtOt0IT"
      },
      "outputs": [],
      "source": [
        "import pickle\n",
        "pickle.dump(rfc, open('Crop_recommendation.pkl', 'wb'))\n",
        "pickle.dump(encoder, open('encoder.pkl', 'wb'))"
      ]
    }
  ],
  "metadata": {
    "colab": {
      "provenance": []
    },
    "kernelspec": {
      "display_name": "Python 3",
      "name": "python3"
    },
    "language_info": {
      "codemirror_mode": {
        "name": "ipython",
        "version": 3
      },
      "file_extension": ".py",
      "mimetype": "text/x-python",
      "name": "python",
      "nbconvert_exporter": "python",
      "pygments_lexer": "ipython3",
      "version": "3.10.0"
    }
  },
  "nbformat": 4,
  "nbformat_minor": 0
}
